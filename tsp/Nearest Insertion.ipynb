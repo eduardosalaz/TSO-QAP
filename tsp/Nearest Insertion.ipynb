{
 "cells": [
  {
   "cell_type": "markdown",
   "id": "e79f4ae7",
   "metadata": {},
   "source": [
    "# TSP Nearest Insertion Heuristic"
   ]
  },
  {
   "cell_type": "markdown",
   "id": "e00fe400",
   "metadata": {},
   "source": [
    "So we have a set of 8 cities or vertex $V = \\{1,2,3,4,5,6,7,8\\}$ with a corresponding $D = d_{i,j} i, j \\in V$ distance matrix between every city"
   ]
  },
  {
   "cell_type": "code",
   "execution_count": 1,
   "id": "ab5d44c1",
   "metadata": {},
   "outputs": [
    {
     "data": {
      "text/plain": [
       "8-element Vector{Int64}:\n",
       " 1\n",
       " 2\n",
       " 3\n",
       " 4\n",
       " 5\n",
       " 6\n",
       " 7\n",
       " 8"
      ]
     },
     "execution_count": 1,
     "metadata": {},
     "output_type": "execute_result"
    }
   ],
   "source": [
    "V = collect(1:8)"
   ]
  },
  {
   "cell_type": "code",
   "execution_count": 2,
   "id": "0c9c4b88",
   "metadata": {},
   "outputs": [
    {
     "data": {
      "text/plain": [
       "8×8 Matrix{Int64}:\n",
       "  0  89  87  38  33  71  59  54\n",
       " 89   0  32  59  65  39  45  61\n",
       " 87  32   0  50  75  17  64  79\n",
       " 38  59  50   0  40  33  50  56\n",
       " 33  65  75  40   0  62  26  21\n",
       " 71  39  17  33  62   0  57  70\n",
       " 59  45  64  50  26  57   0  16\n",
       " 54  61  79  56  21  70  16   0"
      ]
     },
     "execution_count": 2,
     "metadata": {},
     "output_type": "execute_result"
    }
   ],
   "source": [
    "D = \n",
    "[0 89 87 38 33 71 59 54\n",
    "89 0 32 59 65 39 45 61\n",
    "87 32 0 50 75 17 64 79\n",
    "38 59 50 0 40 33 50 56\n",
    "33 65 75 40 0 62 26 21\n",
    "71 39 17 33 62 0 57 70\n",
    "59 45 64 50 26 57 0 16\n",
    "54 61 79 56 21 70 16 0]"
   ]
  },
  {
   "cell_type": "markdown",
   "id": "36ad2ef8",
   "metadata": {},
   "source": [
    "And we will have a $T$ set which will represent the ordered tour of our TSP"
   ]
  },
  {
   "cell_type": "code",
   "execution_count": 3,
   "id": "c538d899",
   "metadata": {},
   "outputs": [
    {
     "data": {
      "text/plain": [
       "Int64[]"
      ]
     },
     "execution_count": 3,
     "metadata": {},
     "output_type": "execute_result"
    }
   ],
   "source": [
    "T = Int64[]"
   ]
  },
  {
   "cell_type": "markdown",
   "id": "2f8002fb",
   "metadata": {},
   "source": [
    "And all of this minimizing the distance between cities, while connecting every single one of them once.\n",
    "\n",
    "To start, let's pick the smallest tour available, by getting the minimal distance in the matrix. Now, because I am lazy I will use the `findmin` function defined in Julia but it will return the zero elements of the main diagonal. So what I will do first is to replace all of those with undesirable distances. A naive approach would be to simply do a `replace` but it will mess with other 0s in the matrix, so let´s stick to the diagonal. I could also use the LinearAlgebra stdlib but I wanna try stuff by myself"
   ]
  },
  {
   "cell_type": "code",
   "execution_count": 4,
   "id": "25403065",
   "metadata": {},
   "outputs": [
    {
     "data": {
      "text/plain": [
       "8×8 Matrix{Int64}:\n",
       " 999999      89      87      38      33      71      59      54\n",
       "     89  999999      32      59      65      39      45      61\n",
       "     87      32  999999      50      75      17      64      79\n",
       "     38      59      50  999999      40      33      50      56\n",
       "     33      65      75      40  999999      62      26      21\n",
       "     71      39      17      33      62  999999      57      70\n",
       "     59      45      64      50      26      57  999999      16\n",
       "     54      61      79      56      21      70      16  999999"
      ]
     },
     "execution_count": 4,
     "metadata": {},
     "output_type": "execute_result"
    }
   ],
   "source": [
    "for i ∈ 1:8\n",
    "    D[i, i] = 999999\n",
    "end\n",
    "D"
   ]
  },
  {
   "cell_type": "code",
   "execution_count": 5,
   "id": "2765d96b",
   "metadata": {},
   "outputs": [
    {
     "name": "stdout",
     "output_type": "stream",
     "text": [
      "Min distance 16 found between 8 and 7 cities\n"
     ]
    }
   ],
   "source": [
    "mindis, coords = findmin(D)\n",
    "x = coords[1]\n",
    "y = coords[2]\n",
    "println(\"Min distance $mindis found between $x and $y cities\")"
   ]
  },
  {
   "cell_type": "markdown",
   "id": "7306b6c8",
   "metadata": {},
   "source": [
    "So we add those to our $T$ tour"
   ]
  },
  {
   "cell_type": "code",
   "execution_count": 6,
   "id": "0de8065e",
   "metadata": {},
   "outputs": [
    {
     "data": {
      "text/plain": [
       "2-element Vector{Int64}:\n",
       " 8\n",
       " 7"
      ]
     },
     "execution_count": 6,
     "metadata": {},
     "output_type": "execute_result"
    }
   ],
   "source": [
    "push!(T, x)\n",
    "push!(T, y)"
   ]
  },
  {
   "cell_type": "markdown",
   "id": "d7cbf689",
   "metadata": {},
   "source": [
    "And we create a $\\bar{V}$ without the cities we've already selected. I will create a helper function for that"
   ]
  },
  {
   "cell_type": "code",
   "execution_count": 7,
   "id": "66361798",
   "metadata": {},
   "outputs": [
    {
     "data": {
      "text/plain": [
       "6-element Vector{Int64}:\n",
       " 1\n",
       " 2\n",
       " 3\n",
       " 4\n",
       " 5\n",
       " 6"
      ]
     },
     "execution_count": 7,
     "metadata": {},
     "output_type": "execute_result"
    }
   ],
   "source": [
    "function remove!(V, item)\n",
    "    deleteat!(V, findall(x->x==item, V))\n",
    "end\n",
    "V̄ = copy(V)\n",
    "remove!(V̄, x)\n",
    "remove!(V̄, y)"
   ]
  },
  {
   "cell_type": "markdown",
   "id": "49322d87",
   "metadata": {},
   "source": [
    "So while $\\bar{V}$ is not empty we shall iterate, adding the nearest node to our current tour and selecting the best place for insertion. We can use many metrics to define \"nearest node\", either the mean or the sum of distances or simply the minimum value. In this case, I will be using the sum of all distances of node $i$ to $T$"
   ]
  },
  {
   "cell_type": "code",
   "execution_count": 8,
   "id": "1f490687",
   "metadata": {},
   "outputs": [
    {
     "data": {
      "text/plain": [
       "6-element Vector{Int64}:\n",
       " 113\n",
       " 106\n",
       " 143\n",
       " 106\n",
       "  47\n",
       " 127"
      ]
     },
     "execution_count": 8,
     "metadata": {},
     "output_type": "execute_result"
    }
   ],
   "source": [
    "distances = Int64[]\n",
    "for i in V̄\n",
    "    dist = 0\n",
    "    for j in T\n",
    "        dist = dist + D[i,j]\n",
    "    end\n",
    "    push!(distances, dist)\n",
    "end\n",
    "distances"
   ]
  },
  {
   "cell_type": "markdown",
   "id": "737e5d0e",
   "metadata": {},
   "source": [
    "Now that we know all of our distances, let´s pick the smallest one available and get the node that is represented by such distance to $T$"
   ]
  },
  {
   "cell_type": "code",
   "execution_count": 9,
   "id": "ba42d1aa",
   "metadata": {},
   "outputs": [
    {
     "name": "stdout",
     "output_type": "stream",
     "text": [
      "Min distance to T 47 found from city 5\n"
     ]
    }
   ],
   "source": [
    "mindis, î = findmin(distances)\n",
    "println(\"Min distance to T $mindis found from city $î\")"
   ]
  },
  {
   "cell_type": "markdown",
   "id": "9a9544c6",
   "metadata": {},
   "source": [
    "We must determine the best place to insert this node. I am too bored to type the LaTeX in of the equation."
   ]
  },
  {
   "cell_type": "code",
   "execution_count": 10,
   "id": "bf7a9719",
   "metadata": {},
   "outputs": [
    {
     "name": "stdout",
     "output_type": "stream",
     "text": [
      "Inserting after city 8 with a weight of 31\n"
     ]
    }
   ],
   "source": [
    "insertion = Tuple[]\n",
    "for q in 1:length(T)\n",
    "    if q ≠ length(T)\n",
    "        distances = D[T[q], î] + D[î,T[q+1]] - D[T[q], T[q+1]]\n",
    "        insert = tuple(T[q], distances)\n",
    "        push!(insertion, insert)\n",
    "    else\n",
    "        distances = D[T[q], î] + D[î,T[q-1]] - D[T[q], T[q-1]]\n",
    "        insert = tuple(T[q], distances)\n",
    "        push!(insertion, insert)\n",
    "    end\n",
    "end\n",
    "sums = [x[2] for x in insertion]\n",
    "mindis, idx = findmin(sums)\n",
    "city = insertion[idx][1]\n",
    "println(\"Inserting after city $city with a weight of $mindis\")"
   ]
  },
  {
   "cell_type": "markdown",
   "id": "ace14df0",
   "metadata": {},
   "source": [
    "In this case it doesn't matter really where do we insert the new node 5, so lets just insert it at 8."
   ]
  },
  {
   "cell_type": "code",
   "execution_count": 11,
   "id": "8566d0d3",
   "metadata": {},
   "outputs": [
    {
     "name": "stdout",
     "output_type": "stream",
     "text": [
      "Current tour T: [8, 7, 5]\n"
     ]
    }
   ],
   "source": [
    "push!(T, î)\n",
    "remove!(V̄, î)\n",
    "println(\"Current tour T: $T\")"
   ]
  },
  {
   "cell_type": "markdown",
   "id": "9b2c5278",
   "metadata": {},
   "source": [
    "So lets create our loop iterating $\\bar{V}$"
   ]
  },
  {
   "cell_type": "code",
   "execution_count": 12,
   "id": "f22cc7ab",
   "metadata": {},
   "outputs": [
    {
     "name": "stdout",
     "output_type": "stream",
     "text": [
      "[146, 171, 218, 146, 189]\n"
     ]
    }
   ],
   "source": [
    "#while !isempty(V̄)\n",
    "    distances = Int64[]\n",
    "    for i in V̄\n",
    "        dist = 0\n",
    "        for j in T\n",
    "            dist = dist + D[i,j]\n",
    "        end\n",
    "        push!(distances, dist)\n",
    "    end\n",
    "    println(distances)\n",
    "#end"
   ]
  }
 ],
 "metadata": {
  "kernelspec": {
   "display_name": "Julia 1.6.0",
   "language": "julia",
   "name": "julia-1.6"
  },
  "language_info": {
   "file_extension": ".jl",
   "mimetype": "application/julia",
   "name": "julia",
   "version": "1.6.0"
  }
 },
 "nbformat": 4,
 "nbformat_minor": 5
}
