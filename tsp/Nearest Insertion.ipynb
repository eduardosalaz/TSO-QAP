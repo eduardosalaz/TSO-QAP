{
 "cells": [
  {
   "cell_type": "markdown",
   "id": "e79f4ae7",
   "metadata": {},
   "source": [
    "# TSP Nearest Insertion Heuristic"
   ]
  },
  {
   "cell_type": "markdown",
   "id": "e00fe400",
   "metadata": {},
   "source": [
    "So we have a set of 8 cities or vertex $V = \\{1,2,3,4,5,6,7,8\\}$ with a corresponding $D = d_{i,j} i, j \\in V$ distance matrix between every city"
   ]
  },
  {
   "cell_type": "code",
   "execution_count": 1,
   "id": "ab5d44c1",
   "metadata": {},
   "outputs": [
    {
     "data": {
      "text/plain": [
       "8-element Vector{Int64}:\n",
       " 1\n",
       " 2\n",
       " 3\n",
       " 4\n",
       " 5\n",
       " 6\n",
       " 7\n",
       " 8"
      ]
     },
     "execution_count": 1,
     "metadata": {},
     "output_type": "execute_result"
    }
   ],
   "source": [
    "V = collect(1:8)"
   ]
  },
  {
   "cell_type": "code",
   "execution_count": 2,
   "id": "0c9c4b88",
   "metadata": {},
   "outputs": [
    {
     "data": {
      "text/plain": [
       "8×8 Matrix{Int64}:\n",
       "  0  89  87  38  33  71  59  54\n",
       " 89   0  32  59  65  39  45  61\n",
       " 87  32   0  50  75  17  64  79\n",
       " 38  59  50   0  40  33  50  56\n",
       " 33  65  75  40   0  62  26  21\n",
       " 71  39  17  33  62   0  57  70\n",
       " 59  45  64  50  26  57   0  16\n",
       " 54  61  79  56  21  70  16   0"
      ]
     },
     "execution_count": 2,
     "metadata": {},
     "output_type": "execute_result"
    }
   ],
   "source": [
    "D = \n",
    "[0 89 87 38 33 71 59 54\n",
    "89 0 32 59 65 39 45 61\n",
    "87 32 0 50 75 17 64 79\n",
    "38 59 50 0 40 33 50 56\n",
    "33 65 75 40 0 62 26 21\n",
    "71 39 17 33 62 0 57 70\n",
    "59 45 64 50 26 57 0 16\n",
    "54 61 79 56 21 70 16 0]"
   ]
  },
  {
   "cell_type": "markdown",
   "id": "36ad2ef8",
   "metadata": {},
   "source": [
    "And we will have a $T$ set which will represent the ordered tour of our TSP"
   ]
  },
  {
   "cell_type": "code",
   "execution_count": 3,
   "id": "c538d899",
   "metadata": {},
   "outputs": [
    {
     "data": {
      "text/plain": [
       "Int64[]"
      ]
     },
     "execution_count": 3,
     "metadata": {},
     "output_type": "execute_result"
    }
   ],
   "source": [
    "T = Int64[]"
   ]
  },
  {
   "cell_type": "markdown",
   "id": "2f8002fb",
   "metadata": {},
   "source": [
    "And all of this minimizing the distance between cities, while connecting every single one of them once.\n",
    "\n",
    "To start, let's pick the smallest tour available, by getting the minimal distance in the matrix. Now, because I am lazy I will use the `findmin` function defined in Julia but it will return the zero elements of the main diagonal. So what I will do first is to replace all of those with undesirable distances. A naive approach would be to simply do a `replace` but it will mess with other 0s in the matrix, so let´s stick to the diagonal. I could also use the LinearAlgebra stdlib but I wanna try stuff by myself"
   ]
  },
  {
   "cell_type": "code",
   "execution_count": 4,
   "id": "25403065",
   "metadata": {},
   "outputs": [
    {
     "data": {
      "text/plain": [
       "8×8 Matrix{Int64}:\n",
       " 999999      89      87      38      33      71      59      54\n",
       "     89  999999      32      59      65      39      45      61\n",
       "     87      32  999999      50      75      17      64      79\n",
       "     38      59      50  999999      40      33      50      56\n",
       "     33      65      75      40  999999      62      26      21\n",
       "     71      39      17      33      62  999999      57      70\n",
       "     59      45      64      50      26      57  999999      16\n",
       "     54      61      79      56      21      70      16  999999"
      ]
     },
     "execution_count": 4,
     "metadata": {},
     "output_type": "execute_result"
    }
   ],
   "source": [
    "for i ∈ 1:8\n",
    "    D[i, i] = 999999\n",
    "end\n",
    "D"
   ]
  },
  {
   "cell_type": "code",
   "execution_count": 5,
   "id": "2765d96b",
   "metadata": {},
   "outputs": [
    {
     "name": "stdout",
     "output_type": "stream",
     "text": [
      "Min distance 16 found between 8 and 7 cities\n"
     ]
    }
   ],
   "source": [
    "mindis, coords = findmin(D)\n",
    "x = coords[1]\n",
    "y = coords[2]\n",
    "println(\"Min distance $mindis found between $x and $y cities\")"
   ]
  },
  {
   "cell_type": "markdown",
   "id": "7306b6c8",
   "metadata": {},
   "source": [
    "So we add those to our $T$ tour"
   ]
  },
  {
   "cell_type": "code",
   "execution_count": 6,
   "id": "0de8065e",
   "metadata": {},
   "outputs": [
    {
     "data": {
      "text/plain": [
       "2-element Vector{Int64}:\n",
       " 7\n",
       " 8"
      ]
     },
     "execution_count": 6,
     "metadata": {},
     "output_type": "execute_result"
    }
   ],
   "source": [
    "push!(T, y)\n",
    "push!(T, x)"
   ]
  },
  {
   "cell_type": "markdown",
   "id": "d7cbf689",
   "metadata": {},
   "source": [
    "And we create a $\\bar{V}$ without the cities we've already selected. I will create a helper function for that"
   ]
  },
  {
   "cell_type": "code",
   "execution_count": 7,
   "id": "66361798",
   "metadata": {},
   "outputs": [
    {
     "data": {
      "text/plain": [
       "6-element Vector{Int64}:\n",
       " 1\n",
       " 2\n",
       " 3\n",
       " 4\n",
       " 5\n",
       " 6"
      ]
     },
     "execution_count": 7,
     "metadata": {},
     "output_type": "execute_result"
    }
   ],
   "source": [
    "function remove!(V, item)\n",
    "    deleteat!(V, findall(x->x==item, V))\n",
    "end\n",
    "V̄ = copy(V)\n",
    "remove!(V̄, x)\n",
    "remove!(V̄, y)"
   ]
  },
  {
   "cell_type": "markdown",
   "id": "e46f4f13",
   "metadata": {},
   "source": [
    "I will define a custom struct for keeping track of the cities and their distances to our current $T$"
   ]
  },
  {
   "cell_type": "code",
   "execution_count": 8,
   "id": "a83620b9",
   "metadata": {},
   "outputs": [],
   "source": [
    "struct city\n",
    "    distance::Int64\n",
    "    node::Int64\n",
    "end"
   ]
  },
  {
   "cell_type": "markdown",
   "id": "49322d87",
   "metadata": {},
   "source": [
    "So while $\\bar{V}$ is not empty we shall iterate, adding the nearest node to our current tour and selecting the best place for insertion. We can use many metrics to define \"nearest node\", either the mean or the sum of distances or simply the minimum value. In this case, I will be using the sum of all distances of node $i$ to $T$"
   ]
  },
  {
   "cell_type": "code",
   "execution_count": 9,
   "id": "1f490687",
   "metadata": {},
   "outputs": [
    {
     "data": {
      "text/plain": [
       "6-element Vector{city}:\n",
       " city(113, 1)\n",
       " city(106, 2)\n",
       " city(143, 3)\n",
       " city(106, 4)\n",
       " city(47, 5)\n",
       " city(127, 6)"
      ]
     },
     "execution_count": 9,
     "metadata": {},
     "output_type": "execute_result"
    }
   ],
   "source": [
    "citiesDis = city[]\n",
    "for i in V̄\n",
    "    dist = 0\n",
    "    for j in T\n",
    "        dist = dist + D[i,j]\n",
    "    end\n",
    "    cityDis = city(dist, i)\n",
    "    push!(citiesDis, cityDis)\n",
    "end\n",
    "citiesDis"
   ]
  },
  {
   "cell_type": "markdown",
   "id": "737e5d0e",
   "metadata": {},
   "source": [
    "Now that we know all of our distances, let´s pick the smallest one available and get the node that is represented by such distance to $T$. To do so, I will use multiple dispatch of the < operator with our new type. Just like operator overloading, but better."
   ]
  },
  {
   "cell_type": "code",
   "execution_count": 10,
   "id": "ba42d1aa",
   "metadata": {},
   "outputs": [
    {
     "name": "stdout",
     "output_type": "stream",
     "text": [
      "Min distance to T 47 from city 5\n"
     ]
    }
   ],
   "source": [
    "Base.isless(c1::city, c2::city) = c1.distance < c2.distance\n",
    "optimum = findmin(citiesDis) # this uses the multiple dispatch defined in the previous line.\n",
    "mindis = optimum[1].distance # Why [1]? because findmin returns a tuple of the CITY and its index.\n",
    "# right now the index equals the node field but later on it will break, so that's why it's coupled in the struct.\n",
    "î = optimum[1].node\n",
    "println(\"Min distance to T $mindis from city $î\")"
   ]
  },
  {
   "cell_type": "markdown",
   "id": "9a9544c6",
   "metadata": {},
   "source": [
    "We must determine the best place to insert this node. I am too bored to type the LaTeX in of the equation."
   ]
  },
  {
   "cell_type": "code",
   "execution_count": 11,
   "id": "bf7a9719",
   "metadata": {},
   "outputs": [
    {
     "name": "stdout",
     "output_type": "stream",
     "text": [
      "Inserting after city 7 with a weight of 31\n"
     ]
    }
   ],
   "source": [
    "insertion = Tuple[]\n",
    "for q in 1:length(T)\n",
    "    if q ≠ length(T)\n",
    "        distances = D[T[q], î] + D[î,T[q+1]] - D[T[q], T[q+1]]\n",
    "        insert = tuple(T[q], distances)\n",
    "        push!(insertion, insert)\n",
    "    else\n",
    "        distances = D[T[q], î] + D[î,T[q-1]] - D[T[q], T[q-1]]\n",
    "        insert = tuple(T[q], distances)\n",
    "        push!(insertion, insert)\n",
    "    end\n",
    "end\n",
    "sums = [x[2] for x in insertion] # the first [1] field of our tuple represents the node of the insertion, [2] the value.\n",
    "mindis, idx = findmin(sums)\n",
    "optCity = insertion[idx][1] #then again, as its an array of tuples we have to access the node with [1].\n",
    "println(\"Inserting after city $optCity with a weight of $mindis\")"
   ]
  },
  {
   "cell_type": "markdown",
   "id": "ace14df0",
   "metadata": {},
   "source": [
    "In this case it doesn't matter really where do we insert the new node 5, so lets just insert it at 8."
   ]
  },
  {
   "cell_type": "code",
   "execution_count": 12,
   "id": "8566d0d3",
   "metadata": {},
   "outputs": [
    {
     "name": "stdout",
     "output_type": "stream",
     "text": [
      "Current tour T: [7, 5, 8]\n"
     ]
    }
   ],
   "source": [
    "optCityIdx = findfirst(x->x==optCity, T)\n",
    "insert!(T, optCityIdx+1, î)\n",
    "remove!(V̄, î)\n",
    "println(\"Current tour T: $T\")"
   ]
  },
  {
   "cell_type": "markdown",
   "id": "9b2c5278",
   "metadata": {},
   "source": [
    "So lets create our loop iterating $\\bar{V}$"
   ]
  },
  {
   "cell_type": "code",
   "execution_count": 13,
   "id": "f22cc7ab",
   "metadata": {},
   "outputs": [
    {
     "name": "stdout",
     "output_type": "stream",
     "text": [
      "city[city(146, 1), city(171, 2), city(218, 3), city(146, 4), city(189, 6)]\n",
      "Min distance to T 146 from city 1\n",
      "Inserting after city 7 with a weight of 66\n",
      "Current tour T: [7, 1, 5, 8]\n",
      "city[city(260, 2), city(305, 3), city(184, 4), city(260, 6)]\n",
      "Min distance to T 184 from city 4\n",
      "Inserting after city 7 with a weight of 29\n",
      "Current tour T: [7, 4, 1, 5, 8]\n",
      "city[city(319, 2), city(355, 3), city(293, 6)]\n",
      "Min distance to T 293 from city 6\n",
      "Inserting after city 7 with a weight of 40\n",
      "Current tour T: [7, 6, 4, 1, 5, 8]\n",
      "city[city(358, 2), city(372, 3)]\n",
      "Min distance to T 358 from city 2\n",
      "Inserting after city 7 with a weight of 27\n",
      "Current tour T: [7, 2, 6, 4, 1, 5, 8]\n",
      "city[city(404, 3)]\n",
      "Min distance to T 404 from city 3\n",
      "Inserting after city 2 with a weight of 10\n",
      "Current tour T: [7, 2, 3, 6, 4, 1, 5, 8]\n",
      "---------End of the heuristic---------\n",
      "Final tour T: [7, 2, 3, 6, 4, 1, 5, 8]\n",
      "Total weight W of: 235\n"
     ]
    }
   ],
   "source": [
    "while !isempty(V̄)\n",
    "    citiesDis = city[]\n",
    "    for i in V̄\n",
    "        dist = 0\n",
    "        for j in T\n",
    "            dist = dist + D[i,j]\n",
    "        end\n",
    "        cityDis = city(dist, i)\n",
    "        push!(citiesDis, cityDis)\n",
    "    end\n",
    "    optimum = findmin(citiesDis)\n",
    "    mindis = optimum[1].distance \n",
    "    î = optimum[1].node\n",
    "    println(\"Min distance to T $mindis from city $î\")\n",
    "    insertion = Tuple[]\n",
    "    for q in 1:length(T)\n",
    "        if q ≠ length(T)\n",
    "            distances = D[T[q], î] + D[î,T[q+1]] - D[T[q], T[q+1]]\n",
    "            insert = tuple(T[q], distances)\n",
    "            push!(insertion, insert)\n",
    "        else\n",
    "            distances = D[T[q], î] + D[î,T[q-1]] - D[T[q], T[q-1]]\n",
    "            insert = tuple(T[q], distances)\n",
    "            push!(insertion, insert)\n",
    "        end\n",
    "    end\n",
    "    sums = [x[2] for x in insertion]\n",
    "    mindis, idx = findmin(sums)\n",
    "    optCity = insertion[idx][1]\n",
    "    println(\"Inserting after city $optCity with a weight of $mindis\")\n",
    "    optCityIdx = findfirst(x->x==optCity, T)\n",
    "    insert!(T, optCityIdx+1, î)\n",
    "    remove!(V̄, î)\n",
    "    println(\"Current tour T: $T\")\n",
    "end\n",
    "println(\"---------End of the heuristic---------\")\n",
    "println(\"Final tour T: $T\")\n",
    "W = 0\n",
    "for i in 1:length(T) -1\n",
    "    W = D[T[i], T[i+1]] + W\n",
    "end\n",
    "W = W + D[last(T), first(T)]\n",
    "println(\"Total weight W of: $W\")"
   ]
  }
 ],
 "metadata": {
  "kernelspec": {
   "display_name": "Julia 1.6.0",
   "language": "julia",
   "name": "julia-1.6"
  },
  "language_info": {
   "file_extension": ".jl",
   "mimetype": "application/julia",
   "name": "julia",
   "version": "1.6.0"
  }
 },
 "nbformat": 4,
 "nbformat_minor": 5
}
